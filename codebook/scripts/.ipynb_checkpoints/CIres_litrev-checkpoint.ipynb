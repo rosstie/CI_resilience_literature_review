{
 "cells": [
  {
   "cell_type": "markdown",
   "metadata": {},
   "source": [
    "# Review: Collective Adaptation intersections with Resilience, Adaptation and Transformation of SES \n",
    "\n",
    "This notebook provides the relevant code to run the literature mapping analysis undertaken in [name of paper]. The notebook includes code to download relevant papers for Scopus, [insert archives used], undertake preliminary screening and data cleaning, as well as as more advanced ML analysis of themes clustering. \n",
    "\n",
    "Codes is broken down into sections and extensively commented for easy understanding. \n",
    "\n"
   ]
  },
  {
   "cell_type": "markdown",
   "metadata": {},
   "source": [
    "## Note book module set up\n"
   ]
  },
  {
   "cell_type": "code",
   "execution_count": 2,
   "metadata": {},
   "outputs": [],
   "source": [
    "# Adapted from example code by: \n",
    "\n",
    "# Import other libraries\n",
    "import os\n",
    "import sys\n",
    "import numpy as np\n",
    "import pandas as pd\n",
    "import matplotlib.pyplot as plt\n",
    "import seaborn as sbs\n",
    "\n",
    "# Options for plots\n",
    "plt.rcParams['figure.figsize'] = (10, 6)\n",
    "sbs.set('paper')\n",
    "\n",
    "# Import litstudy\n",
    "path = os.path.abspath(os.path.join('..'))\n",
    "if path not in sys.path:\n",
    "    sys.path.append(path)\n",
    "\n",
    "import litstudy\n"
   ]
  },
  {
   "cell_type": "markdown",
   "metadata": {},
   "source": [
    "## Importing CSV files from queries of databases \n",
    "\n",
    "### Scopus \n",
    "Title: \n",
    "\"collective intelligence\" OR \"collective adaptation\" OR resilience OR adaptation OR transformation\n",
    "\n",
    "Title, Abstract, Keywords: \n",
    "\"collective intelligence\" OR \"collective adaptation\" AND resilience OR adaptation OR transformation\n",
    "\n",
    "### SpringerLink \n",
    "Title: \n",
    "'\"collective intelligence\" OR \"collective adaptation\" AND (resilience OR adaptation OR transformation)'"
   ]
  },
  {
   "cell_type": "code",
   "execution_count": 3,
   "metadata": {},
   "outputs": [
    {
     "ename": "SyntaxError",
     "evalue": "unterminated string literal (detected at line 2) (2109895632.py, line 2)",
     "output_type": "error",
     "traceback": [
      "\u001b[1;36m  Cell \u001b[1;32mIn[3], line 2\u001b[1;36m\u001b[0m\n\u001b[1;33m    docs_scopus = litstudy.load_scopus_csv('data/scopus/scopus_results\u001b[0m\n\u001b[1;37m                                           ^\u001b[0m\n\u001b[1;31mSyntaxError\u001b[0m\u001b[1;31m:\u001b[0m unterminated string literal (detected at line 2)\n"
     ]
    }
   ],
   "source": [
    "\n",
    "\n",
    "# Load the CSV files\n",
    "docs_scopus = litstudy.load_scopus_csv('data/scopus/scopus_results')\n",
    "print(len(docs_scopus), 'papers loaded from IEEE')\n",
    "\n",
    "docs_springer = litstudy.load_springer_csv('data/springer/springer_results.csv')\n",
    "print(len(docs_springer), 'papers loaded from Springer')\n",
    "\n",
    "# Merge the two document sets\n",
    "docs_csv = docs_scopus | docs_springer\n",
    "print(len(docs_csv), 'papers loaded from CSV')\n"
   ]
  },
  {
   "cell_type": "code",
   "execution_count": null,
   "metadata": {},
   "outputs": [],
   "source": []
  }
 ],
 "metadata": {
  "kernelspec": {
   "display_name": "Python 3 (ipykernel)",
   "language": "python",
   "name": "python3"
  },
  "language_info": {
   "codemirror_mode": {
    "name": "ipython",
    "version": 3
   },
   "file_extension": ".py",
   "mimetype": "text/x-python",
   "name": "python",
   "nbconvert_exporter": "python",
   "pygments_lexer": "ipython3",
   "version": "3.11.4"
  }
 },
 "nbformat": 4,
 "nbformat_minor": 2
}
